{
 "cells": [
  {
   "cell_type": "code",
   "execution_count": null,
   "metadata": {},
   "outputs": [],
   "source": [
    "%pip install -r ../opt/requirements.txt"
   ]
  },
  {
   "cell_type": "code",
   "execution_count": 3,
   "metadata": {},
   "outputs": [],
   "source": [
    "import discord\n",
    "from discord.ext import commands\n",
    "\n",
    "TOKEN = 'YOUR_BOT_TOKEN'\n",
    "bot = commands.Bot(command_prefix='!', intents=discord.Intents.all())\n",
    "\n",
    "@bot.event\n",
    "async def on_ready() -> None:\n",
    "    print(f'Logged in as {bot.user.name} ({bot.user.id})')\n",
    "    print('Bot is ready to go!')\n",
    "\n",
    "\n",
    "@bot.command()\n",
    "async def hello(ctx) -> None:\n",
    "    await ctx.send('Hello, I am a Discord bot!')\n",
    "\n",
    "\n",
    "@bot.command()\n",
    "async def ping(ctx) -> None:\n",
    "    await ctx.send(f'Pong! Latency: {round(bot.latency * 1000)}ms')\n"
   ]
  },
  {
   "cell_type": "code",
   "execution_count": null,
   "metadata": {},
   "outputs": [],
   "source": [
    "# Need to create an event loop for the bot to run in Jupyter.\n",
    "# This is not needed in a normal Python file.\n",
    "# Normal Python files will use the following code: bot.start(TOKEN)\n",
    "import asyncio\n",
    "loop = asyncio.get_event_loop()\n",
    "loop.run_until_complete(bot.start(TOKEN))"
   ]
  }
 ],
 "metadata": {
  "kernelspec": {
   "display_name": "py39",
   "language": "python",
   "name": "python3"
  },
  "language_info": {
   "codemirror_mode": {
    "name": "ipython",
    "version": 3
   },
   "file_extension": ".py",
   "mimetype": "text/x-python",
   "name": "python",
   "nbconvert_exporter": "python",
   "pygments_lexer": "ipython3",
   "version": "3.10.6"
  },
  "orig_nbformat": 4
 },
 "nbformat": 4,
 "nbformat_minor": 2
}
